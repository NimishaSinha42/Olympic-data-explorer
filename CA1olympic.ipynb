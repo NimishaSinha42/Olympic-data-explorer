{
 "cells": [
  {
   "cell_type": "code",
   "execution_count": 27,
   "id": "54999a4a-fa8c-4524-8a6a-23bc2ee41e7b",
   "metadata": {},
   "outputs": [
    {
     "name": "stdout",
     "output_type": "stream",
     "text": [
      "1. Add Details\n",
      "2. View Details\n",
      "3. View Medal Count by Country\n",
      "4. Search Athlete Performance\n",
      "5. View Event Details\n",
      "6. View Statistics\n",
      "7. Exit\n"
     ]
    },
    {
     "name": "stdin",
     "output_type": "stream",
     "text": [
      "Select Your Choice:  1\n",
      "Enter limit:  2\n",
      "Enter the year of olympic:  2020\n",
      "Enter the athlete name:  Jennifer Valente\n",
      "Enter the athlete age:  32\n",
      "Enter the sex of player:  Female\n",
      "Enter the athlete height in feet:  5.9\n",
      "Enter the medal won in that year:  1\n",
      "Enter the type of medal won by the athlete:  Gold\n",
      "Enter the sport:  Cycling\n",
      "Enter which country participated: USA\n",
      "In which country olympic was conducted:   Tokyo\n",
      "Enter the date of event: August 8\n",
      "Enter the time taken by the athlete to complete this game in second:   4491\n",
      "Enter the distance of track in meter: 30000\n",
      "Enter the year of olympic:  2020\n",
      "Enter the athlete name:  Hannah Roberts\n",
      "Enter the athlete age:  19\n",
      "Enter the sex of player:  Female\n",
      "Enter the athlete height in feet:  5.4\n",
      "Enter the medal won in that year:  1\n",
      "Enter the type of medal won by the athlete:  Silver\n",
      "Enter the sport:  Cycling\n",
      "Enter which country participated: USA\n",
      "In which country olympic was conducted:   Tokyo\n",
      "Enter the date of event: August 1\n",
      "Enter the time taken by the athlete to complete this game in second:   60\n",
      "Enter the distance of track in meter: 300\n"
     ]
    },
    {
     "name": "stdout",
     "output_type": "stream",
     "text": [
      "1. Add Details\n",
      "2. View Details\n",
      "3. View Medal Count by Country\n",
      "4. Search Athlete Performance\n",
      "5. View Event Details\n",
      "6. View Statistics\n",
      "7. Exit\n"
     ]
    },
    {
     "name": "stdin",
     "output_type": "stream",
     "text": [
      "Select Your Choice:  2\n"
     ]
    },
    {
     "name": "stdout",
     "output_type": "stream",
     "text": [
      "Year      Athlete Name             Age       Sex       Height(in feet)     Medal     Medal_Type     Sport     Country   \n",
      "2000      Marty Nothstein          29        Male      6.2                 1         Gold           Cycling   USA       \n",
      "2000      Mari Holden              29        Female    5.7                 1         Silver         Cycling   USA       \n",
      "2004      Bobby Julich             31        Male      5.7                 1         Silver         Cycling   USA       \n",
      "2004      Dede Barry               32        Female    5.11                1         Silver         Cycling   USA       \n",
      "2008      Kristin Armstrong        35        Female    5.8                 1         Gold           Cycling   USA       \n",
      "2008      Mike Day                 23        Male      6                   1         Silver         Cycling   USA       \n",
      "2008      Levi Leipheimer          34        Male      5.7                 1         Bronze         Cycling   USA       \n",
      "2008      Jill Kintner             26        Female    5.7                 1         Bronze         Cycling   USA       \n",
      "2008      Donny Robinson           24        Female    5.5                 1         Bronze         Cycling   USA       \n",
      "2012      Kristin Armstrong        38        Female    5.8                 1         Gold           Cycling   USA       \n",
      "2012      Sarah Hammer             28        Female    5.7                 1         Silver         Cycling   USA       \n",
      "2012      Georgia Gould            32        Female    5.9                 1         Bronze         Cycling   USA       \n",
      "2020      Jennifer Valente         32        Female    5.9                 1         Gold           Cycling   USA       \n",
      "2020      Hannah Roberts           19        Female    5.4                 1         Silver         Cycling   USA       \n",
      "1. Add Details\n",
      "2. View Details\n",
      "3. View Medal Count by Country\n",
      "4. Search Athlete Performance\n",
      "5. View Event Details\n",
      "6. View Statistics\n",
      "7. Exit\n"
     ]
    },
    {
     "name": "stdin",
     "output_type": "stream",
     "text": [
      "Select Your Choice:  3\n"
     ]
    },
    {
     "name": "stdout",
     "output_type": "stream",
     "text": [
      "Total number of medals: 14\n",
      "To Know about any medal, choose from below:\n",
      "1. Gold Medal\n",
      "2. Silver Medal\n",
      "3. Bronze Medal\n"
     ]
    },
    {
     "name": "stdin",
     "output_type": "stream",
     "text": [
      "Select Your Choice:  1\n"
     ]
    },
    {
     "name": "stdout",
     "output_type": "stream",
     "text": [
      "Details of athletes who won Gold medals:\n",
      "\n",
      "Year      Athlete Name             Age       Sex       Height(in feet)     \n",
      "2000      Marty Nothstein          29        Male      6.2                 \n",
      "2008      Kristin Armstrong        35        Female    5.8                 \n",
      "2012      Kristin Armstrong        38        Female    5.8                 \n",
      "2020      Jennifer Valente         32        Female    5.9                 \n",
      "\n",
      "1. Add Details\n",
      "2. View Details\n",
      "3. View Medal Count by Country\n",
      "4. Search Athlete Performance\n",
      "5. View Event Details\n",
      "6. View Statistics\n",
      "7. Exit\n"
     ]
    },
    {
     "name": "stdin",
     "output_type": "stream",
     "text": [
      "Select Your Choice:  3\n"
     ]
    },
    {
     "name": "stdout",
     "output_type": "stream",
     "text": [
      "Total number of medals: 14\n",
      "To Know about any medal, choose from below:\n",
      "1. Gold Medal\n",
      "2. Silver Medal\n",
      "3. Bronze Medal\n"
     ]
    },
    {
     "name": "stdin",
     "output_type": "stream",
     "text": [
      "Select Your Choice:  2\n"
     ]
    },
    {
     "name": "stdout",
     "output_type": "stream",
     "text": [
      "Details of athletes who won Silver medals:\n",
      "\n",
      "Year      Athlete Name             Age       Sex       Height(in feet)     \n",
      "2000      Mari Holden              29        Female    5.7                 \n",
      "2004      Bobby Julich             31        Male      5.7                 \n",
      "2004      Dede Barry               32        Female    5.11                \n",
      "2008      Mike Day                 23        Male      6                   \n",
      "2012      Sarah Hammer             28        Female    5.7                 \n",
      "2020      Hannah Roberts           19        Female    5.4                 \n",
      "\n",
      "1. Add Details\n",
      "2. View Details\n",
      "3. View Medal Count by Country\n",
      "4. Search Athlete Performance\n",
      "5. View Event Details\n",
      "6. View Statistics\n",
      "7. Exit\n"
     ]
    },
    {
     "name": "stdin",
     "output_type": "stream",
     "text": [
      "Select Your Choice:  3\n"
     ]
    },
    {
     "name": "stdout",
     "output_type": "stream",
     "text": [
      "Total number of medals: 14\n",
      "To Know about any medal, choose from below:\n",
      "1. Gold Medal\n",
      "2. Silver Medal\n",
      "3. Bronze Medal\n"
     ]
    },
    {
     "name": "stdin",
     "output_type": "stream",
     "text": [
      "Select Your Choice:  3\n"
     ]
    },
    {
     "name": "stdout",
     "output_type": "stream",
     "text": [
      "Details of athletes who won Bronze medals:\n",
      "\n",
      "Year      Athlete Name             Age       Sex       Height(in feet)     \n",
      "2008      Levi Leipheimer          34        Male      5.7                 \n",
      "2008      Jill Kintner             26        Female    5.7                 \n",
      "2008      Donny Robinson           24        Female    5.5                 \n",
      "2012      Georgia Gould            32        Female    5.9                 \n",
      "\n",
      "1. Add Details\n",
      "2. View Details\n",
      "3. View Medal Count by Country\n",
      "4. Search Athlete Performance\n",
      "5. View Event Details\n",
      "6. View Statistics\n",
      "7. Exit\n"
     ]
    },
    {
     "name": "stdin",
     "output_type": "stream",
     "text": [
      "Select Your Choice:  4\n"
     ]
    },
    {
     "name": "stdout",
     "output_type": "stream",
     "text": [
      "Athlete Name             Sport     Time(in sec)   Distance(in m)\n",
      "Marty Nothstein          Cycling   10.515         200       \n",
      "Mari Holden              Cycling   2552.42        31200     \n",
      "Bobby Julich             Cycling   13806          140800    \n",
      "Dede Barry               Cycling   3873           44200     \n",
      "Kristin Armstrong        Cycling   25500          2091      \n",
      "Mike Day                 Cycling   36.99          400       \n",
      "Levi Leipheimer          Cycling   3688           47100     \n",
      "Jill Kintner             Cycling   37.07          400       \n",
      "Donny Robinson           Cycling   36.68          400       \n",
      "Kristin Armstrong        Cycling   2143           29000     \n",
      "Sarah Hammer             Cycling   209.714        3000      \n",
      "Georgia Gould            Cycling   5691           30000     \n",
      "Jennifer Valente         Cycling   4491.0         30000     \n",
      "Hannah Roberts           Cycling   60.0           300       \n",
      "1. Add Details\n",
      "2. View Details\n",
      "3. View Medal Count by Country\n",
      "4. Search Athlete Performance\n",
      "5. View Event Details\n",
      "6. View Statistics\n",
      "7. Exit\n"
     ]
    },
    {
     "name": "stdin",
     "output_type": "stream",
     "text": [
      "Select Your Choice:  5\n"
     ]
    },
    {
     "name": "stdout",
     "output_type": "stream",
     "text": [
      "Year      Athlete Name             Medal_Type     Sport          Country   Event          Date      \n",
      "2000      Marty Nothstein          Gold           Cycling        USA       Australia      September 19\n",
      "2000      Mari Holden              Silver         Cycling        USA       Australia      September 30\n",
      "2004      Bobby Julich             Silver         Cycling        USA       Greece         August 18 \n",
      "2004      Dede Barry               Silver         Cycling        USA       Greece         August 18 \n",
      "2008      Kristin Armstrong        Gold           Cycling        USA       China          August 13 \n",
      "2008      Mike Day                 Silver         Cycling        USA       China          August 22 \n",
      "2008      Levi Leipheimer          Bronze         Cycling        USA       China          August 13 \n",
      "2008      Jill Kintner             Bronze         Cycling        USA       China          August 22 \n",
      "2008      Donny Robinson           Bronze         Cycling        USA       China          August 22 \n",
      "2012      Kristin Armstrong        Gold           Cycling        USA       London         August 1  \n",
      "2012      Sarah Hammer             Silver         Cycling        USA       London         August 7  \n",
      "2012      Georgia Gould            Bronze         Cycling        USA       London         August 11 \n",
      "2020      Jennifer Valente         Gold           Cycling        USA       Tokyo          August 8  \n",
      "2020      Hannah Roberts           Silver         Cycling        USA       Tokyo          August 1  \n",
      "1. Add Details\n",
      "2. View Details\n",
      "3. View Medal Count by Country\n",
      "4. Search Athlete Performance\n",
      "5. View Event Details\n",
      "6. View Statistics\n",
      "7. Exit\n"
     ]
    },
    {
     "name": "stdin",
     "output_type": "stream",
     "text": [
      "Select Your Choice:  6\n"
     ]
    },
    {
     "name": "stdout",
     "output_type": "stream",
     "text": [
      "Total time taken in sec: 62135.388999999996\n",
      "Total distance in meter: 359091\n",
      "Average speed is :5.779170385494811 m/s\n",
      "1. Add Details\n",
      "2. View Details\n",
      "3. View Medal Count by Country\n",
      "4. Search Athlete Performance\n",
      "5. View Event Details\n",
      "6. View Statistics\n",
      "7. Exit\n"
     ]
    },
    {
     "name": "stdin",
     "output_type": "stream",
     "text": [
      "Select Your Choice:  7\n"
     ]
    },
    {
     "name": "stdout",
     "output_type": "stream",
     "text": [
      "You have chosen to exit\n"
     ]
    }
   ],
   "source": [
    "olympic_list = [\n",
    "    {\n",
    "        'Year': 2000,\n",
    "        'Athlete Name': 'Marty Nothstein',\n",
    "        'Age': 29,\n",
    "        'Sex': 'Male',\n",
    "        'Height(in feet)': 6.2,\n",
    "        'Medal': 1,\n",
    "        'Medal_Type': 'Gold',\n",
    "        'Sport': 'Cycling',\n",
    "        'Country': 'USA',\n",
    "        'Event': 'Australia',\n",
    "        'Date': 'September 19',\n",
    "        'Time(in sec)': 10.515,\n",
    "        'Distance(in m)': 200\n",
    "    },\n",
    "    {\n",
    "        'Year': 2000,\n",
    "        'Athlete Name': 'Mari Holden',\n",
    "        'Age': 29,\n",
    "        'Sex': 'Female',\n",
    "        'Height(in feet)': 5.7,\n",
    "        'Medal': 1,\n",
    "        'Medal_Type': 'Silver',\n",
    "        'Sport': 'Cycling',\n",
    "        'Country': 'USA',\n",
    "        'Event': 'Australia',\n",
    "        'Date': 'September 30',\n",
    "        'Time(in sec)': 2552.42,\n",
    "        'Distance(in m)': 31200\n",
    "    },\n",
    "    {\n",
    "        'Year': 2004,\n",
    "        'Athlete Name': 'Bobby Julich',\n",
    "        'Age': 31,\n",
    "        'Sex': 'Male',\n",
    "        'Height(in feet)': 5.7,\n",
    "        'Medal': 1,\n",
    "        'Medal_Type': 'Silver',\n",
    "        'Sport': 'Cycling',\n",
    "        'Country': 'USA',\n",
    "        'Event': 'Greece',\n",
    "        'Date': 'August 18',\n",
    "        'Time(in sec)': 13806,\n",
    "        'Distance(in m)': 140800\n",
    "    },\n",
    "    {\n",
    "        'Year': 2004,\n",
    "        'Athlete Name': 'Dede Barry',\n",
    "        'Age': 32,\n",
    "        'Sex': 'Female',\n",
    "        'Height(in feet)': 5.11,\n",
    "        'Medal': 1,\n",
    "        'Medal_Type': 'Silver',\n",
    "        'Sport': 'Cycling',\n",
    "        'Country': 'USA',\n",
    "        'Event': 'Greece',\n",
    "        'Date': 'August 18',\n",
    "        'Time(in sec)': 3873,\n",
    "        'Distance(in m)': 44200\n",
    "    },\n",
    "    {\n",
    "        'Year': 2008,\n",
    "        'Athlete Name': 'Kristin Armstrong',\n",
    "        'Age': 35,\n",
    "        'Sex': 'Female',\n",
    "        'Height(in feet)': 5.8,\n",
    "        'Medal': 1,\n",
    "        'Medal_Type': 'Gold',\n",
    "        'Sport': 'Cycling',\n",
    "        'Country': 'USA',\n",
    "        'Event': 'China',\n",
    "        'Date': 'August 13',\n",
    "        'Time(in sec)': 25500,\n",
    "        'Distance(in m)': 2091\n",
    "    },\n",
    "    {\n",
    "        'Year': 2008,\n",
    "        'Athlete Name': 'Mike Day',\n",
    "        'Age': 23,\n",
    "        'Sex': 'Male',\n",
    "        'Height(in feet)': 6,\n",
    "        'Medal': 1,\n",
    "        'Medal_Type': 'Silver',\n",
    "        'Sport': 'Cycling',\n",
    "        'Country': 'USA',\n",
    "        'Event': 'China',\n",
    "        'Date': 'August 22',\n",
    "        'Time(in sec)': 36.99,\n",
    "        'Distance(in m)': 400\n",
    "    },\n",
    "    {\n",
    "        'Year': 2008,\n",
    "        'Athlete Name': 'Levi Leipheimer',\n",
    "        'Age': 34,\n",
    "        'Sex': 'Male',\n",
    "        'Height(in feet)': 5.7,\n",
    "        'Medal': 1,\n",
    "        'Medal_Type': 'Bronze',\n",
    "        'Sport': 'Cycling',\n",
    "        'Country': 'USA',\n",
    "        'Event': 'China',\n",
    "        'Date': 'August 13',\n",
    "        'Time(in sec)': 3688,\n",
    "        'Distance(in m)': 47100\n",
    "    },\n",
    "    {\n",
    "        'Year': 2008,\n",
    "        'Athlete Name': 'Jill Kintner',\n",
    "        'Age': 26,\n",
    "        'Sex': 'Female',\n",
    "        'Height(in feet)': 5.7,\n",
    "        'Medal': 1,\n",
    "        'Medal_Type': 'Bronze',\n",
    "        'Sport': 'Cycling',\n",
    "        'Country': 'USA',\n",
    "        'Event': 'China',\n",
    "        'Date': 'August 22',\n",
    "        'Time(in sec)': 37.07,\n",
    "        'Distance(in m)': 400\n",
    "    },\n",
    "    {\n",
    "        'Year': 2008,\n",
    "        'Athlete Name': 'Donny Robinson',\n",
    "        'Age': 24,\n",
    "        'Sex': 'Female',\n",
    "        'Height(in feet)': 5.5,\n",
    "        'Medal': 1,\n",
    "        'Medal_Type': 'Bronze',\n",
    "        'Sport': 'Cycling',\n",
    "        'Country': 'USA',\n",
    "        'Event': 'China',\n",
    "        'Date': 'August 22',\n",
    "        'Time(in sec)': 36.68,\n",
    "        'Distance(in m)': 400\n",
    "    },\n",
    "    {\n",
    "        'Year': 2012,\n",
    "        'Athlete Name': 'Kristin Armstrong',\n",
    "        'Age': 38,\n",
    "        'Sex': 'Female',\n",
    "        'Height(in feet)': 5.8,\n",
    "        'Medal': 1,\n",
    "        'Medal_Type': 'Gold',\n",
    "        'Sport': 'Cycling',\n",
    "        'Country': 'USA',\n",
    "        'Event': 'London',\n",
    "        'Date': 'August 1',\n",
    "        'Time(in sec)': 2143,\n",
    "        'Distance(in m)': 29000\n",
    "    },\n",
    "    {\n",
    "        'Year': 2012,\n",
    "        'Athlete Name': 'Sarah Hammer',\n",
    "        'Age': 28,\n",
    "        'Sex': 'Female',\n",
    "        'Height(in feet)': 5.7,\n",
    "        'Medal': 1,\n",
    "        'Medal_Type': 'Silver',\n",
    "        'Sport': 'Cycling',\n",
    "        'Country': 'USA',\n",
    "        'Event': 'London',\n",
    "        'Date': 'August 7',\n",
    "        'Time(in sec)': 209.714,\n",
    "        'Distance(in m)': 3000\n",
    "    },\n",
    "    {\n",
    "        'Year': 2012,\n",
    "        'Athlete Name': 'Georgia Gould',\n",
    "        'Age': 32,\n",
    "        'Sex': 'Female',\n",
    "        'Height(in feet)': 5.9,\n",
    "        'Medal': 1,\n",
    "        'Medal_Type': 'Bronze',\n",
    "        'Sport': 'Cycling',\n",
    "        'Country': 'USA',\n",
    "        'Event': 'London',\n",
    "        'Date': 'August 11',\n",
    "        'Time(in sec)': 5691,\n",
    "        'Distance(in m)': 30000\n",
    "    },\n",
    "]\n",
    "\n",
    "\n",
    "\n",
    "def add_details():\n",
    "    record = int(input(\"Enter limit: \"))\n",
    "    for i in range(record):\n",
    "        year= int(input(\"Enter the year of olympic: \"))\n",
    "        name= input(\"Enter the athlete name: \")\n",
    "        age = int(input(\"Enter the athlete age: \"))\n",
    "        sex=input(\"Enter the sex of player: \")\n",
    "        height = float(input(\"Enter the athlete height in feet: \"))\n",
    "        medal=int(input(\"Enter the medal won in that year: \"))\n",
    "        medaltype=input(\"Enter the type of medal won by the athlete: \")\n",
    "        sport = input(\"Enter the sport: \")\n",
    "        country=input(\"Enter which country participated:\")\n",
    "        event = input(\"In which country olympic was conducted:  \")\n",
    "        date=input(\"Enter the date of event:\")\n",
    "        time=float(input(\"Enter the time taken by the athlete to complete this game in second:  \"))\n",
    "        distance=int(input(\"Enter the distance of track in meter:\"))\n",
    "        \n",
    "        \n",
    "        olympic_list.append(\n",
    "             {\n",
    "                 'Year':year,\n",
    "                 'Athlete Name':name,\n",
    "                 'Age':age,\n",
    "                 'Sex':sex,\n",
    "                 'Height(in feet)':height,\n",
    "                 'Medal':medal,\n",
    "                 'Medal_Type':medaltype,\n",
    "                 'Sport':sport,\n",
    "                 'Country':country,\n",
    "                 'Event':event,\n",
    "                 'Date':date,         \n",
    "                 'Time(in sec)':time,\n",
    "                 'Distance(in m)':distance\n",
    "                 \n",
    "                \n",
    "                 \n",
    "             }\n",
    "         )\n",
    "def view_details():       \n",
    "    header = f\"{'Year':<10}{'Athlete Name':<25}{'Age':<10}{'Sex':<10}{'Height(in feet)':<20}{'Medal':<10}{'Medal_Type':<15}{'Sport':<10}{'Country':<10}\"\n",
    "    print(header)\n",
    "    for data in olympic_list:\n",
    "        row = f\"{data['Year']:<10}{data['Athlete Name']:<25}{data['Age']:<10}{data['Sex']:<10}{data['Height(in feet)']:<20}{data['Medal']:<10}{data['Medal_Type']:<15}{data['Sport']:<10}{data['Country']:<10}\"\n",
    "        print(row)\n",
    "\n",
    "def medal_details(medal_type):\n",
    "    print(f\"Details of athletes who won {medal_type} medals:\\n\")\n",
    "    header = f\"{'Year':<10}{'Athlete Name':<25}{'Age':<10}{'Sex':<10}{'Height(in feet)':<20}\"\n",
    "    print(header)\n",
    "    for data in olympic_list:\n",
    "        if data['Medal_Type'].lower() == medal_type.lower():\n",
    "            row = f\"{data['Year']:<10}{data['Athlete Name']:<25}{data['Age']:<10}{data['Sex']:<10}{data['Height(in feet)']:<20}\"\n",
    "            print(row)\n",
    "    print()    \n",
    "\n",
    "def medal_count_and_detail():\n",
    "    total_medals = sum(data['Medal'] for data in olympic_list)\n",
    "    print(f\"Total number of medals: {total_medals}\")\n",
    "    print(\"To Know about any medal, choose from below:\")\n",
    "    print(\"1. Gold Medal\\n2. Silver Medal\\n3. Bronze Medal\")\n",
    "    select = int(input(\"Select Your Choice: \"))\n",
    "    \n",
    "    match select:\n",
    "        case 1:\n",
    "            medal_details(\"Gold\")\n",
    "        case 2:\n",
    "            medal_details(\"Silver\")\n",
    "        case 3:\n",
    "            medal_details(\"Bronze\")\n",
    "        case _:\n",
    "            print(\"Invalid choice.\")\n",
    "\n",
    "def athlete_performance():\n",
    "    header = f\"{'Athlete Name':<25}{'Sport':<10}{'Time(in sec)':<15}{'Distance(in m)':<10}\"\n",
    "    print(header)\n",
    "    for data in olympic_list:\n",
    "        row = f\"{data['Athlete Name']:<25}{data['Sport']:<10}{data['Time(in sec)']:<15}{data['Distance(in m)']:<10}\"\n",
    "        print(row)\n",
    "    \n",
    "def event_details():\n",
    "    header = f\"{'Year':<10}{'Athlete Name':<25}{'Medal_Type':<15}{'Sport':<15}{'Country':<10}{'Event':<15}{'Date':<10}\"\n",
    "    print(header)\n",
    "    for data in olympic_list:\n",
    "        row = f\"{data['Year']:<10}{data['Athlete Name']:<25}{data['Medal_Type']:<15}{data['Sport']:<15}{data['Country']:<10}{data['Event']:<15}{data['Date']:<10}\"\n",
    "        print(row)\n",
    "def  statistics():\n",
    "    total_time = sum(data['Time(in sec)'] for data in olympic_list)\n",
    "    print(f\"Total time taken in sec: {total_time}\")   \n",
    "    total_distance = sum(data['Distance(in m)'] for data in olympic_list)\n",
    "    print(f\"Total distance in meter: {total_distance}\")\n",
    "    average_speed=total_distance/total_time\n",
    "    print(f\"Average speed is :{average_speed} m/s\")  \n",
    "\n",
    "while True:\n",
    "    print(\"1. Add Details\\n2. View Details\\n3. View Medal Count by Country\\n4. Search Athlete Performance\\n5. View Event Details\\n6. View Statistics\\n7. Exit\")\n",
    "    choice = int(input(\"Select Your Choice: \"))\n",
    "    \n",
    "    match choice:\n",
    "        case 1:\n",
    "            add_details()\n",
    "        case 2:\n",
    "            view_details()\n",
    "        case 3:\n",
    "             medal_count_and_detail()\n",
    "        case 4:\n",
    "            athlete_performance()\n",
    "        case 5:\n",
    "            event_details()\n",
    "        case 6:\n",
    "            statistics()\n",
    "        case 7:\n",
    "            print(\"You have chosen to exit\")\n",
    "            break\n",
    "        case _:\n",
    "            print(\"Invalid choice\")"
   ]
  },
  {
   "cell_type": "code",
   "execution_count": 16,
   "id": "68bdfc45-ac55-4dcc-971f-58c6a808a36d",
   "metadata": {},
   "outputs": [
    {
     "name": "stdout",
     "output_type": "stream",
     "text": [
      "1. Add Details\n",
      "2. View Details\n",
      "3. View Medal Count by Country\n",
      "4. Search Athlete Performance\n",
      "5. View Event Details\n",
      "6. View Statistics\n",
      "7. Exit\n"
     ]
    },
    {
     "name": "stdin",
     "output_type": "stream",
     "text": [
      "Select Your Choice:  6\n"
     ]
    },
    {
     "name": "stdout",
     "output_type": "stream",
     "text": [
      "Total time taken: 60\n",
      "Total distance: 368\n",
      "Average speed is:6.133333333333334\n",
      "1. Add Details\n",
      "2. View Details\n",
      "3. View Medal Count by Country\n",
      "4. Search Athlete Performance\n",
      "5. View Event Details\n",
      "6. View Statistics\n",
      "7. Exit\n"
     ]
    },
    {
     "name": "stdin",
     "output_type": "stream",
     "text": [
      "Select Your Choice:  2\n"
     ]
    },
    {
     "name": "stdout",
     "output_type": "stream",
     "text": [
      "Year      Athlete NameAge       Height    Medal     Medal_TypeSport     Country   Distance  \n",
      "2011      Pratik    22        170       2         Gold      Cycling   USA       345       \n",
      "2012      ronak     22        170       2         Gold      Cycling   USA       23        \n",
      "1. Add Details\n",
      "2. View Details\n",
      "3. View Medal Count by Country\n",
      "4. Search Athlete Performance\n",
      "5. View Event Details\n",
      "6. View Statistics\n",
      "7. Exit\n"
     ]
    },
    {
     "name": "stdin",
     "output_type": "stream",
     "text": [
      "Select Your Choice:  3\n"
     ]
    },
    {
     "name": "stdout",
     "output_type": "stream",
     "text": [
      "Total number of medals: 4\n",
      "To Know about any medal, choose from below:\n",
      "1. Gold Medal\n",
      "2. Silver Medal\n",
      "3. Bronze Medal\n"
     ]
    },
    {
     "name": "stdin",
     "output_type": "stream",
     "text": [
      "Select Your Choice:  7\n"
     ]
    },
    {
     "name": "stdout",
     "output_type": "stream",
     "text": [
      "Invalid choice.\n",
      "1. Add Details\n",
      "2. View Details\n",
      "3. View Medal Count by Country\n",
      "4. Search Athlete Performance\n",
      "5. View Event Details\n",
      "6. View Statistics\n",
      "7. Exit\n"
     ]
    },
    {
     "name": "stdin",
     "output_type": "stream",
     "text": [
      "Select Your Choice:  7\n"
     ]
    },
    {
     "name": "stdout",
     "output_type": "stream",
     "text": [
      "You have chosen to exit\n"
     ]
    }
   ],
   "source": []
  },
  {
   "cell_type": "code",
   "execution_count": null,
   "id": "f48a3d5e-d0d2-4566-a63c-86a5fc986ee3",
   "metadata": {},
   "outputs": [],
   "source": []
  }
 ],
 "metadata": {
  "kernelspec": {
   "display_name": "Python 3 (ipykernel)",
   "language": "python",
   "name": "python3"
  },
  "language_info": {
   "codemirror_mode": {
    "name": "ipython",
    "version": 3
   },
   "file_extension": ".py",
   "mimetype": "text/x-python",
   "name": "python",
   "nbconvert_exporter": "python",
   "pygments_lexer": "ipython3",
   "version": "3.12.5"
  }
 },
 "nbformat": 4,
 "nbformat_minor": 5
}
